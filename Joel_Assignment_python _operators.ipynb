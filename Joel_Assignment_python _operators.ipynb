{
  "nbformat": 4,
  "nbformat_minor": 0,
  "metadata": {
    "colab": {
      "provenance": []
    },
    "kernelspec": {
      "name": "python3",
      "display_name": "Python 3"
    },
    "language_info": {
      "name": "python"
    }
  },
  "cells": [
    {
      "cell_type": "code",
      "execution_count": 1,
      "metadata": {
        "colab": {
          "base_uri": "https://localhost:8080/",
          "height": 0
        },
        "id": "RtybRkkzTl_M",
        "outputId": "a3af5527-e2f8-418f-b8c4-e2307cb3f848"
      },
      "outputs": [
        {
          "output_type": "stream",
          "name": "stdout",
          "text": [
            "The area of the circle with the radius 8 is: 201.06192982974676\n"
          ]
        }
      ],
      "source": [
        "'''Write a Python program to find the' area of a circle with a given radius using the formula area = pi * r ** 2. Assume that pi is 3.14.'''\n",
        "\n",
        "import math\n",
        "r=8\n",
        "area=math.pi*r**2\n",
        "print(\"The area of the circle with the radius\",r,\"is:\",area)"
      ]
    },
    {
      "cell_type": "code",
      "source": [
        "'''Write a Python program to convert Celsius to Fahrenheit using the formula F = (C * 9/5) + 32'''\n",
        "\n",
        "c=float(input(\"Enter the celsius:\"))\n",
        "f = (c * 9/5) + 32\n",
        "print(\"The temperature in Fahrenheit is:\", f)"
      ],
      "metadata": {
        "id": "ahsEsFLfUyFT",
        "colab": {
          "base_uri": "https://localhost:8080/",
          "height": 0
        },
        "outputId": "4a9233c6-a9cb-4aee-c23e-a95c5188af9b"
      },
      "execution_count": 2,
      "outputs": [
        {
          "output_type": "stream",
          "name": "stdout",
          "text": [
            "Enter the celsius:72\n",
            "The temperature in Fahrenheit is: 161.6\n"
          ]
        }
      ]
    },
    {
      "cell_type": "code",
      "source": [
        "'''Write a Python program to find the quotient and remainder of two numbers using the division operator / and the modulo operator %.'''\n",
        "\n",
        "a=int(input(\"Enter the first number:\"))\n",
        "b=int(input(\"Enter the second number:\"))\n",
        "quo=a/b\n",
        "rem=a%b\n",
        "print(\"The quotient of\",a,\"and\",b,\"is:\",quo)\n",
        "print(\"The remainder of\",a,\"and\",b,\"is:\",rem)"
      ],
      "metadata": {
        "colab": {
          "base_uri": "https://localhost:8080/",
          "height": 0
        },
        "id": "tLuhgq2kclFF",
        "outputId": "a290ae1d-69f5-4506-da7b-81ab6f76a33b"
      },
      "execution_count": 5,
      "outputs": [
        {
          "output_type": "stream",
          "name": "stdout",
          "text": [
            "Enter the first number:43\n",
            "Enter the second number:23\n",
            "The quotient of 43 and 23 is: 1.8695652173913044\n",
            "The remainder of 43 and 23 is: 20\n"
          ]
        }
      ]
    },
    {
      "cell_type": "code",
      "source": [
        "'''Write a python program to check whether a given number is even or odd using the modulo operator %'''\n",
        "\n",
        "a=int(input(\"Enter the number:\"))\n",
        "if a%2==0:\n",
        "  print(\"It is even\")\n",
        "else:\n",
        "  print(\"It is odd\")"
      ],
      "metadata": {
        "colab": {
          "base_uri": "https://localhost:8080/",
          "height": 0
        },
        "id": "bGvXRZUBbia3",
        "outputId": "30b427ce-e839-4982-a698-1aaec6dcd5ca"
      },
      "execution_count": 6,
      "outputs": [
        {
          "output_type": "stream",
          "name": "stdout",
          "text": [
            "Enter the number:45\n",
            "It is odd\n"
          ]
        }
      ]
    },
    {
      "cell_type": "code",
      "source": [
        "'''Write a Python program to calculate the average of three numbers entered by the user.'''\n",
        "a=int(input(\"Enter the first number:\"))\n",
        "b=int(input(\"Enter the second number:\"))\n",
        "c=int(input(\"Enter the third number:\"))\n",
        "avg=(a+b+c)/3\n",
        "print(\"The average of\",a,\",\",b,\"and\",c,\"is:\",avg)"
      ],
      "metadata": {
        "colab": {
          "base_uri": "https://localhost:8080/",
          "height": 0
        },
        "id": "qZ-cglCOcH0-",
        "outputId": "de575443-7aad-45bc-8240-8b4245600786"
      },
      "execution_count": 7,
      "outputs": [
        {
          "output_type": "stream",
          "name": "stdout",
          "text": [
            "Enter the first number:32\n",
            "Enter the second number:6\n",
            "Enter the third number:56\n",
            "The average of 32 , 6 and 56 is: 31.333333333333332\n"
          ]
        }
      ]
    },
    {
      "cell_type": "code",
      "source": [
        "'''Write a program to swap two variables without using a temporary variable'''\n",
        "\n",
        "a=6\n",
        "b=9\n",
        "a=a+b\n",
        "b=a-b\n",
        "a=a-b\n",
        "print(\"The value of a is now =\", a)\n",
        "print(\"The value of b is now =\", b)"
      ],
      "metadata": {
        "colab": {
          "base_uri": "https://localhost:8080/",
          "height": 0
        },
        "id": "kPZEErKldwjs",
        "outputId": "8df9cee5-29ef-487e-af18-9bf405b72bc5"
      },
      "execution_count": 8,
      "outputs": [
        {
          "output_type": "stream",
          "name": "stdout",
          "text": [
            "The value of a is now = 9\n",
            "The value of b is now = 6\n"
          ]
        }
      ]
    },
    {
      "cell_type": "code",
      "source": [
        "'''Write a Python program to calculate the area of a rectangle with given length and breadth.'''\n",
        "\n",
        "l=90\n",
        "b=82\n",
        "area=l*b\n",
        "print(\"The area of the rectangle is:\",area)"
      ],
      "metadata": {
        "colab": {
          "base_uri": "https://localhost:8080/",
          "height": 0
        },
        "id": "3ULG7syWdyWR",
        "outputId": "191cbc90-13c0-436e-c1be-eba91db78069"
      },
      "execution_count": 9,
      "outputs": [
        {
          "output_type": "stream",
          "name": "stdout",
          "text": [
            "The area of the rectangle is: 7380\n"
          ]
        }
      ]
    },
    {
      "cell_type": "code",
      "source": [
        "'''Write a Python program to calculate the sum of the digits of a three-digit number.'''\n",
        "n = int(input(\"Enter the three digit number:\"))\n",
        "if 99 < n < 1000:\n",
        "  sod= n % 10 + (n // 10) % 10 + n // 100\n",
        "  print(\"The sum of the digits of the number is\", sod)\n",
        "else:\n",
        "    print(\"Please enter a valid three-digit number.\")"
      ],
      "metadata": {
        "colab": {
          "base_uri": "https://localhost:8080/",
          "height": 0
        },
        "id": "YBvQEyjRejIK",
        "outputId": "c8918e53-f34b-4582-b343-7298ef1f75a6"
      },
      "execution_count": 10,
      "outputs": [
        {
          "output_type": "stream",
          "name": "stdout",
          "text": [
            "Enter the three digit number:345\n",
            "The sum of the digits of the number is 12\n"
          ]
        }
      ]
    },
    {
      "cell_type": "code",
      "source": [
        "'''Write a Python program to check whether a given year is a leap year or not.'''\n",
        "\n",
        "yr=int(input(\"Enter a year:\"))\n",
        "if yr%4==0 and yr%100 !=0 or yr%400==0:\n",
        "  print(yr,\"is a leap year\")\n",
        "else:\n",
        "  print(yr,\"is not a leap year\")"
      ],
      "metadata": {
        "id": "u9CYcXleiYUH",
        "outputId": "9b7134d5-6fb8-427a-c008-e0faebf0da6a",
        "colab": {
          "base_uri": "https://localhost:8080/",
          "height": 0
        }
      },
      "execution_count": 11,
      "outputs": [
        {
          "output_type": "stream",
          "name": "stdout",
          "text": [
            "Enter a year:2005\n",
            "2005 is not a leap year\n"
          ]
        }
      ]
    },
    {
      "cell_type": "code",
      "source": [
        "-'''Write a Python program to find the maximum and minimum of two numbers entered by the user.'''\n",
        "\n",
        "import math\n",
        "a=int(input(\"Enter the first number:\"))\n",
        "b=int(input(\"Enter the second number:\"))\n",
        "if a>b:\n",
        "  max=a\n",
        "  min=b\n",
        "else:\n",
        "  max=b\n",
        "  min=a\n",
        "print(\"The maximum of\",a,\"and\",b,\"is:\",max)\n",
        "print(\"The minimum of\",a,\"and\",b,\"is:\",min)"
      ],
      "metadata": {
        "colab": {
          "base_uri": "https://localhost:8080/",
          "height": 0
        },
        "id": "4mHV0DIXju3H",
        "outputId": "75bb1ee5-7ad3-4db2-8046-9c7decc1530e"
      },
      "execution_count": 12,
      "outputs": [
        {
          "output_type": "stream",
          "name": "stdout",
          "text": [
            "Enter the first number:45\n",
            "Enter the second number:32\n",
            "The maximum of 45 and 32 is: 45\n",
            "The minimum of 45 and 32 is: 32\n"
          ]
        }
      ]
    }
  ]
}