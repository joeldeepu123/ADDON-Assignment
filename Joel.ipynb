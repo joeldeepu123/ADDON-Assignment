{
  "nbformat": 4,
  "nbformat_minor": 0,
  "metadata": {
    "colab": {
      "provenance": [],
      "authorship_tag": "ABX9TyOjAhd1x4sauFFOufHV1sU8",
      "include_colab_link": true
    },
    "kernelspec": {
      "name": "python3",
      "display_name": "Python 3"
    },
    "language_info": {
      "name": "python"
    }
  },
  "cells": [
    {
      "cell_type": "markdown",
      "metadata": {
        "id": "view-in-github",
        "colab_type": "text"
      },
      "source": [
        "<a href=\"https://colab.research.google.com/github/joeldeepu123/ADDON-Assignment/blob/main/Joel.ipynb\" target=\"_parent\"><img src=\"https://colab.research.google.com/assets/colab-badge.svg\" alt=\"Open In Colab\"/></a>"
      ]
    },
    {
      "cell_type": "code",
      "execution_count": null,
      "metadata": {
        "id": "Qi7_VZAHIv3V"
      },
      "outputs": [],
      "source": [
        "#Write a Python function to accept a string value from the user and display the count of each character in that string. Sample input: Enter a string value: assembly Sample output: a=1, s=2, e=1, m=1, b=1, l=1, y=1"
      ]
    },
    {
      "cell_type": "code",
      "source": [
        "import collections\n",
        "\n",
        "def count_chars():\n",
        "    user_input = input(\"Enter a string value: \")\n",
        "    char_counts = collections.Counter(user_input)\n",
        "    for char, count in char_counts.items():\n",
        "        print(f\"{char}={count}\")\n",
        "count_chars()"
      ],
      "metadata": {
        "colab": {
          "base_uri": "https://localhost:8080/"
        },
        "id": "oCqzciiBJ_lL",
        "outputId": "a4275c05-67c2-44b4-aa7f-24695a5feefb"
      },
      "execution_count": null,
      "outputs": [
        {
          "output_type": "stream",
          "name": "stdout",
          "text": [
            "Enter a string value: 44\n",
            "4=2\n"
          ]
        }
      ]
    },
    {
      "cell_type": "code",
      "source": [
        "#Write a Python function to find the maximum of three numbers Sample input: 34,12,7 Sample output: 34"
      ],
      "metadata": {
        "id": "iCmW9ZSUKnHi"
      },
      "execution_count": null,
      "outputs": []
    },
    {
      "cell_type": "code",
      "source": [
        "def find_max(num1, num2, num3):\n",
        "\n",
        "  if num1 > num2:\n",
        "    if num1 > num3:\n",
        "      return num1\n",
        "    else:\n",
        "      return num3\n",
        "  else:\n",
        "    if num2 > num3:\n",
        "      return num2\n",
        "    else:\n",
        "      return num3\n",
        "\n",
        "num1 = 34\n",
        "num2 = 12\n",
        "num3 = 7\n",
        "\n",
        "max_num = find_max(num1, num2, num3)\n",
        "\n",
        "print(f\"The maximum of {num1}, {num2}, and {num3} is: {max_num}\")"
      ],
      "metadata": {
        "colab": {
          "base_uri": "https://localhost:8080/"
        },
        "id": "-j1MaVebKs5Y",
        "outputId": "f10df6e7-8ba3-43c5-b405-25debf088f43"
      },
      "execution_count": null,
      "outputs": [
        {
          "output_type": "stream",
          "name": "stdout",
          "text": [
            "The maximum of 34, 12, and 7 is: 34\n"
          ]
        }
      ]
    },
    {
      "cell_type": "code",
      "source": [
        "#Write a Python function called exponent(base,exp) that returns an integer value of base raises to the power of exp. Sample input: Enter the base: 2 Enter the exponent: 3 Sample output: 8"
      ],
      "metadata": {
        "id": "RgGRMnbJL7v0"
      },
      "execution_count": null,
      "outputs": []
    },
    {
      "cell_type": "code",
      "source": [
        "def exponent(base, exp):\n",
        "  result = 1\n",
        "  for i in range(exp):\n",
        "    result *= base\n",
        "  return result\n",
        "\n",
        "base = int(input(\"Enter the base: \"))\n",
        "exp = int(input(\"Enter the exponent:\"))\n",
        "print(exponent(base, exp))"
      ],
      "metadata": {
        "colab": {
          "base_uri": "https://localhost:8080/"
        },
        "id": "6OLlpNWvMExa",
        "outputId": "931a8042-3d46-42c0-ed86-e352d45b8cae"
      },
      "execution_count": null,
      "outputs": [
        {
          "output_type": "stream",
          "name": "stdout",
          "text": [
            "Enter the base: 2\n",
            "Enter the exponent:3\n",
            "8\n"
          ]
        }
      ]
    },
    {
      "cell_type": "code",
      "source": [
        "#Write a Python function that takes a positive integer and returns the sum ofthe cube of all the positive integers smaller than the specified number. Sample input: 4 Sample output: 36"
      ],
      "metadata": {
        "id": "RttBARHeM7yY"
      },
      "execution_count": null,
      "outputs": []
    },
    {
      "cell_type": "code",
      "source": [
        "def sum_cubes_below(n):\n",
        "\n",
        "  sum_of_cubes = 0\n",
        "  for i in range(1, n):\n",
        "    sum_of_cubes += i**3\n",
        "  return sum_of_cubes\n",
        "sample_input = 4\n",
        "sum_of_cubes = sum_cubes_below(sample_input)\n",
        "print(f\"Sum of cubes of positive integers smaller than {sample_input}: {sum_of_cubes}\")"
      ],
      "metadata": {
        "colab": {
          "base_uri": "https://localhost:8080/"
        },
        "id": "bYWPq58SN1hM",
        "outputId": "04c51e47-859b-4516-eefa-35c29ade8ca7"
      },
      "execution_count": null,
      "outputs": [
        {
          "output_type": "stream",
          "name": "stdout",
          "text": [
            "Sum of cubes of positive integers smaller than 4: 36\n"
          ]
        }
      ]
    },
    {
      "cell_type": "code",
      "source": [
        "#Write a Python program which iterates from 1 to 10. For multiples of 2, print \"Fizz\" instead of the number and for the multiples of 5, print \"Buzz\". For numbers which are multiples of both 2 and 5, print \"FizzBuzz\".Sample input:numbers from 1 to 10 Sample output: 1 Fizz 3 Fizz Buzz Fizz 7 Fizz 9 FizzBuzz"
      ],
      "metadata": {
        "id": "Od_tIWyoPmqY"
      },
      "execution_count": null,
      "outputs": []
    },
    {
      "cell_type": "code",
      "source": [
        "for i in range(1, 11):\n",
        "  if i % 2 == 0 and i % 5 == 0:\n",
        "    print(\"FizzBuzz\")\n",
        "  elif i % 2== 0:\n",
        "    print(\"Fizz\")\n",
        "  elif i % 5 == 0:\n",
        "    print(\"Buzz\")\n",
        "  else:\n",
        "    print(i)"
      ],
      "metadata": {
        "colab": {
          "base_uri": "https://localhost:8080/"
        },
        "id": "zS_sI1E9QqMq",
        "outputId": "01242748-f4c6-4b7c-dbd5-158555495d12"
      },
      "execution_count": null,
      "outputs": [
        {
          "output_type": "stream",
          "name": "stdout",
          "text": [
            "1\n",
            "Fizz\n",
            "3\n",
            "Fizz\n",
            "Buzz\n",
            "Fizz\n",
            "7\n",
            "Fizz\n",
            "9\n",
            "FizzBuzz\n"
          ]
        }
      ]
    },
    {
      "cell_type": "code",
      "source": [
        "#Write a Python function to find the most frequent item in a list of numbers. Sample input: 2, 3, 4, 2, 5, 2 Sample output: 2"
      ],
      "metadata": {
        "id": "JCU7Xw-QRQmU"
      },
      "execution_count": null,
      "outputs": []
    },
    {
      "cell_type": "code",
      "source": [
        "def most_frequent(list1):\n",
        "    dict1 = {}\n",
        "    for item in list1:\n",
        "        if item in dict1:\n",
        "            dict1[item] += 1\n",
        "        else:\n",
        "            dict1[item] = 1\n",
        "    max_value = max(dict1.values())\n",
        "    max_key = max(dict1, key=dict1.get)\n",
        "\n",
        "    return max_key\n",
        "\n",
        "list1 = [5,3,8,4,5]\n",
        "result = most_frequent(list1)\n",
        "print(\"The most frequent item is:\", result)"
      ],
      "metadata": {
        "colab": {
          "base_uri": "https://localhost:8080/"
        },
        "id": "4MJsKvVLRYzF",
        "outputId": "af95c38b-643a-49ba-cdde-9c7c38031c78"
      },
      "execution_count": null,
      "outputs": [
        {
          "output_type": "stream",
          "name": "stdout",
          "text": [
            "The most frequent item is: 5\n"
          ]
        }
      ]
    },
    {
      "cell_type": "code",
      "source": [
        "#Write a python function to find the sum of squares of the numbers in a list. Sample input: 2,1,3,1 Sample output:15."
      ],
      "metadata": {
        "id": "j7H6qJ-kRyDG"
      },
      "execution_count": null,
      "outputs": []
    },
    {
      "cell_type": "code",
      "source": [
        "def sum_of_squares(numbers):\n",
        "    total = 0\n",
        "    for x in numbers:\n",
        "        total += x**2\n",
        "    return total\n",
        "print(sum_of_squares([2, 1, 3, 1]))"
      ],
      "metadata": {
        "colab": {
          "base_uri": "https://localhost:8080/"
        },
        "id": "buqpc8L-TL_t",
        "outputId": "02f7b467-9794-49eb-c700-3bb824fbd08e"
      },
      "execution_count": null,
      "outputs": [
        {
          "output_type": "stream",
          "name": "stdout",
          "text": [
            "15\n"
          ]
        }
      ]
    },
    {
      "cell_type": "code",
      "source": [
        "#Write a python program using for loop that will iterate from 1 to 15. For each iteration,check if the current number is odd or even,and display the message to the screen as odd or even. Sample input: 1....15 Sample output: 1-odd 2-even....15-odd."
      ],
      "metadata": {
        "id": "FApJ6AeTVvvV"
      },
      "execution_count": null,
      "outputs": []
    },
    {
      "cell_type": "code",
      "source": [
        "for i in range(1, 16):\n",
        "    if i % 2 == 0:\n",
        "        print(f\"{i}-even\")\n",
        "    else:\n",
        "        print(f\"{i}-odd\")"
      ],
      "metadata": {
        "colab": {
          "base_uri": "https://localhost:8080/"
        },
        "id": "WMYLfkkvXUQA",
        "outputId": "1a034bfa-9e92-41ba-ad44-fb0ff33e6538"
      },
      "execution_count": null,
      "outputs": [
        {
          "output_type": "stream",
          "name": "stdout",
          "text": [
            "1-odd\n",
            "2-even\n",
            "3-odd\n",
            "4-even\n",
            "5-odd\n",
            "6-even\n",
            "7-odd\n",
            "8-even\n",
            "9-odd\n",
            "10-even\n",
            "11-odd\n",
            "12-even\n",
            "13-odd\n",
            "14-even\n",
            "15-odd\n"
          ]
        }
      ]
    },
    {
      "cell_type": "code",
      "source": [
        "#Write a python function to convert temperatures to and from Celsius Fahrenheit.[Formula:c/5=f-32/9 where c=temparature in celsius and f=temperature in fahrenheit.]Sample input:Temparature in fahrenheit=41.Sample output:Temparature in Celsius=5"
      ],
      "metadata": {
        "id": "1MH6JQ50ar0G"
      },
      "execution_count": null,
      "outputs": []
    },
    {
      "cell_type": "code",
      "source": [
        "f=float(input(\"Enter the first number\"))\n",
        "c = (f*32/59)\n",
        "print(\"the temperature in celsius:\",c)"
      ],
      "metadata": {
        "colab": {
          "base_uri": "https://localhost:8080/"
        },
        "id": "SBwBzRpqcIVZ",
        "outputId": "901f5e1f-603d-49b6-aae3-c941e9b2007d"
      },
      "execution_count": null,
      "outputs": [
        {
          "output_type": "stream",
          "name": "stdout",
          "text": [
            "Enter the first number67\n",
            "the temperature in celsius: 36.33898305084746\n"
          ]
        }
      ]
    },
    {
      "cell_type": "code",
      "source": [
        "#Write a Python function to calculate the factorial of a number (a nonnegative integer). The function accepts the number as an argument. Sample input: 3 Sample output: 6"
      ],
      "metadata": {
        "id": "qSC1dv2rdvlQ"
      },
      "execution_count": null,
      "outputs": []
    },
    {
      "cell_type": "code",
      "source": [
        "def factorial(n):\n",
        "  if n == 0:\n",
        "    return 1\n",
        "  else:\n",
        "    return n * factorial(n-1)\n",
        "n = 8\n",
        "result = factorial(n)\n",
        "print(f\"The factorial of {n} is: {result}\")"
      ],
      "metadata": {
        "colab": {
          "base_uri": "https://localhost:8080/"
        },
        "id": "_piieQn2d52-",
        "outputId": "b21a5d71-d8f4-455c-e108-389469caba95"
      },
      "execution_count": null,
      "outputs": [
        {
          "output_type": "stream",
          "name": "stdout",
          "text": [
            "The factorial of 8 is: 40320\n"
          ]
        }
      ]
    },
    {
      "cell_type": "code",
      "source": [
        "Jamal = {\"name\": \"Jamal Hussain\",\n",
        "\t\t\"assignment\": [80, 50, 40, 20],\n",
        "\t\t\"test\": [75, 75],\n",
        "\t\t\"lab\": [78.20, 77.20]\n",
        "\t\t}\n",
        "\n",
        "Joel = {\"name\": \"Joel Deepu\",\n",
        "\t\t\"assignment\": [82, 56, 44, 30],\n",
        "\t\t\"test\": [80, 80],\n",
        "\t\t\"lab\": [67.90, 78.72]\n",
        "\t\t}\n",
        "\n",
        "June = {\"name\": \"June Sara\",\n",
        "\t\t\"assignment\": [77, 82, 23, 39],\n",
        "\t\t\"test\": [78, 77],\n",
        "\t\t\"lab\": [80, 80]\n",
        "\t\t}\n",
        "\n",
        "Sanjo = {\"name\": \"Sanjo shaji\",\n",
        "\t\t\"assignment\": [67, 55, 77, 21],\n",
        "\t\t\"test\": [40, 50],\n",
        "\t\t\"lab\": [69, 44.56]\n",
        "\t\t}\n",
        "\n",
        "Freddy = {\"name\": \"Freddy\",\n",
        "\t\"assignment\": [29, 89, 60, 56],\n",
        "\t\"test\": [65, 56],\n",
        "\t\"lab\": [50, 40.6]\n",
        "\t}\n",
        "\n",
        "\n",
        "def get_average(marks):\n",
        "\ttotal_sum = sum(marks)\n",
        "\ttotal_sum = float(total_sum)\n",
        "\treturn total_sum / len(marks)\n",
        "\n",
        "def calculate_total_average(students):\n",
        "\tassignment = get_average(students[\"assignment\"])\n",
        "\ttest = get_average(students[\"test\"])\n",
        "\tlab = get_average(students[\"lab\"])\n",
        "\n",
        "\treturn (0.1 * assignment +\n",
        "\t\t\t0.7 * test + 0.2 * lab)\n",
        "\n",
        "def assign_letter_grade(score):\n",
        "\tif score >= 90:\n",
        "\t\treturn \"A\"\n",
        "\telif score >= 80:\n",
        "\t\treturn \"B\"\n",
        "\telif score >= 70:\n",
        "\t\treturn \"C\"\n",
        "\telif score >= 60:\n",
        "\t\treturn \"D\"\n",
        "\telse:\n",
        "\t\treturn \"E\"\n",
        "\n",
        "\n",
        "\tfor student in student_list:\n",
        "\t\tstud_avg = calculate_total_average(student)\n",
        "\t\tresult_list.append(stud_avg)\n",
        "\t\treturn get_average(result_list)\n",
        "\n",
        "students = [Jamal, Joel, June, Sanjo, Freddy]\n",
        "\n",
        "for i in students:\n",
        "\tprint(i[\"name\"])\n",
        "\n",
        "\tprint(\"\\n Average marks of %s is : %s \" % (i[\"name\"],\n",
        "\t\t\t\t\t\t\tcalculate_total_average(i)))\n",
        "\n",
        "\tprint(\"Letter Grade of %s is : %s\" % (i[\"name\"],\n",
        "\t\t\tassign_letter_grade(calculate_total_average(i))))\n",
        "\n",
        "\tprint()"
      ],
      "metadata": {
        "colab": {
          "base_uri": "https://localhost:8080/"
        },
        "id": "x6XjVW7c3GMc",
        "outputId": "65fe8fc2-558d-496b-945f-bc1df14a24a0"
      },
      "execution_count": null,
      "outputs": [
        {
          "output_type": "stream",
          "name": "stdout",
          "text": [
            "Jamal Hussain\n",
            "\n",
            " Average marks of Jamal Hussain is : 72.79 \n",
            "Letter Grade of Jamal Hussain is : C\n",
            "\n",
            "Joel Deepu\n",
            "\n",
            " Average marks of Joel Deepu is : 75.962 \n",
            "Letter Grade of Joel Deepu is : C\n",
            "\n",
            "June Sara\n",
            "\n",
            " Average marks of June Sara is : 75.775 \n",
            "Letter Grade of June Sara is : C\n",
            "\n",
            "Sanjo shaji\n",
            "\n",
            " Average marks of Sanjo shaji is : 48.356 \n",
            "Letter Grade of Sanjo shaji is : E\n",
            "\n",
            "Freddy\n",
            "\n",
            " Average marks of Freddy is : 57.26 \n",
            "Letter Grade of Freddy is : E\n",
            "\n"
          ]
        }
      ]
    }
  ]
}